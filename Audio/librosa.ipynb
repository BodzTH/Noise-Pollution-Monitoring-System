{
 "cells": [
  {
   "cell_type": "code",
   "execution_count": 20,
   "metadata": {},
   "outputs": [],
   "source": [
    "import matplotlib.pyplot as plt\n",
    "\n",
    "from librosa.display import specshow\n",
    "import librosa\n",
    "\n",
    "from scipy.io import wavfile\n",
    "import numpy as np\n",
    "\n",
    "%matplotlib inline"
   ]
  },
  {
   "cell_type": "code",
   "execution_count": 26,
   "metadata": {},
   "outputs": [
    {
     "name": "stdout",
     "output_type": "stream",
     "text": [
      "Peak dB level: 0.00\n",
      "Average dB level: -43.74\n"
     ]
    }
   ],
   "source": [
    "import librosa\n",
    "import numpy as np\n",
    "\n",
    "def extract_db_levels(audio_file):\n",
    "  \"\"\"\n",
    "  Extracts peak and average dB levels from a WAV audio file.\n",
    "\n",
    "  Args:\n",
    "      audio_file (str): Path to the WAV audio file.\n",
    "\n",
    "  Returns:\n",
    "      tuple: (peak_db, average_db) or (None, None) if errors occur.\n",
    "  \"\"\"\n",
    "\n",
    "  try:\n",
    "    # Load audio data\n",
    "    y, sr = librosa.load(audio_file)\n",
    "\n",
    "    # Convert audio data to dB\n",
    "    db = librosa.power_to_db(y, ref=np.max)\n",
    "\n",
    "    # Extract peak dB level\n",
    "    peak_db = np.max(db)\n",
    "\n",
    "    # Extract average dB level\n",
    "    average_db = np.mean(db)\n",
    "\n",
    "    return peak_db, average_db\n",
    "\n",
    "  except Exception as e:\n",
    "    print(f\"Error extracting dB levels: {e}\")\n",
    "    return None, None\n",
    "\n",
    "# Example usage\n",
    "audio_file = \"./tst.wav\"\n",
    "peak_db, average_db = extract_db_levels(audio_file)\n",
    "\n",
    "if peak_db is not None and average_db is not None:\n",
    "  print(f\"Peak dB level: {peak_db:.2f}\")\n",
    "  print(f\"Average dB level: {average_db:.2f}\")\n",
    "else:\n",
    "  print(\"Error occurred during processing.\")\n"
   ]
  }
 ],
 "metadata": {
  "kernelspec": {
   "display_name": "Python 3",
   "language": "python",
   "name": "python3"
  },
  "language_info": {
   "codemirror_mode": {
    "name": "ipython",
    "version": 3
   },
   "file_extension": ".py",
   "mimetype": "text/x-python",
   "name": "python",
   "nbconvert_exporter": "python",
   "pygments_lexer": "ipython3",
   "version": "3.10.12"
  }
 },
 "nbformat": 4,
 "nbformat_minor": 2
}
